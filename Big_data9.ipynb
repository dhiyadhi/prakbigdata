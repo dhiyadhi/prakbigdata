{
  "nbformat": 4,
  "nbformat_minor": 0,
  "metadata": {
    "colab": {
      "provenance": []
    },
    "kernelspec": {
      "name": "python3",
      "display_name": "Python 3"
    },
    "language_info": {
      "name": "python"
    }
  },
  "cells": [
    {
      "cell_type": "code",
      "execution_count": null,
      "metadata": {
        "colab": {
          "base_uri": "https://localhost:8080/"
        },
        "id": "guydsByOx1E7",
        "outputId": "043484b3-e4a7-41fb-a44d-7ae8d397aacc"
      },
      "outputs": [
        {
          "output_type": "stream",
          "name": "stdout",
          "text": [
            "Requirement already satisfied: pyspark in /usr/local/lib/python3.10/dist-packages (3.5.3)\n",
            "Requirement already satisfied: py4j==0.10.9.7 in /usr/local/lib/python3.10/dist-packages (from pyspark) (0.10.9.7)\n"
          ]
        }
      ],
      "source": [
        "!pip install pyspark"
      ]
    },
    {
      "cell_type": "code",
      "source": [
        "# 2\n",
        "from pyspark.sql import SparkSession\n",
        "spark = SparkSession.builder.appName('HandsOnPertemuan9').getOrCreate()\n",
        "data = [\n",
        "    ('James', 34, 'M', 3000, 1),\n",
        "    ('Anna', 28, 'F', 4100, 2),\n",
        "    ('Lee', 23, 'M', 2700, 1)\n",
        "]\n",
        "columns = ['Name', 'Age', 'Gender', 'Salary', 'DeptId']\n",
        "df = spark.createDataFrame(data, schema=columns)\n",
        "df.createOrReplaceTempView('employees')\n",
        "spark.sql('SELECT * FROM employees').show()\n",
        "spark.sql('SELECT Name, Age FROM employees WHERE Salary > 3000').show()\n",
        "spark.sql('SELECT AVG(Salary) FROM employees').show()"
      ],
      "metadata": {
        "colab": {
          "base_uri": "https://localhost:8080/"
        },
        "id": "jB4umjNNzOIs",
        "outputId": "b657f20c-ae74-4a34-fbad-7b7f6bbc9a9d"
      },
      "execution_count": null,
      "outputs": [
        {
          "output_type": "stream",
          "name": "stdout",
          "text": [
            "+-----+---+------+------+------+\n",
            "| Name|Age|Gender|Salary|DeptId|\n",
            "+-----+---+------+------+------+\n",
            "|James| 34|     M|  3000|     1|\n",
            "| Anna| 28|     F|  4100|     2|\n",
            "|  Lee| 23|     M|  2700|     1|\n",
            "+-----+---+------+------+------+\n",
            "\n",
            "+----+---+\n",
            "|Name|Age|\n",
            "+----+---+\n",
            "|Anna| 28|\n",
            "+----+---+\n",
            "\n",
            "+------------------+\n",
            "|       avg(Salary)|\n",
            "+------------------+\n",
            "|3266.6666666666665|\n",
            "+------------------+\n",
            "\n"
          ]
        }
      ]
    },
    {
      "cell_type": "code",
      "source": [
        "# 2\n",
        "spark.sql('''\n",
        "SELECT Gender, SUM(Salary) as TotalSalary, Age\n",
        "FROM employees\n",
        "GROUP BY Gender, Age\n",
        "ORDER BY Age\n",
        "''').show()"
      ],
      "metadata": {
        "colab": {
          "base_uri": "https://localhost:8080/"
        },
        "id": "MUxtm0qt1JXj",
        "outputId": "5b5aee90-3c31-4c79-a678-4767e066c3bb"
      },
      "execution_count": null,
      "outputs": [
        {
          "output_type": "stream",
          "name": "stdout",
          "text": [
            "+------+-----------+---+\n",
            "|Gender|TotalSalary|Age|\n",
            "+------+-----------+---+\n",
            "|     M|       2700| 23|\n",
            "|     F|       4100| 28|\n",
            "|     M|       3000| 34|\n",
            "+------+-----------+---+\n",
            "\n"
          ]
        }
      ]
    },
    {
      "cell_type": "code",
      "source": [
        "# 2 tambahan 1\n",
        "#rata rata gaji per dptr\n",
        "spark.sql('''\n",
        "SELECT DeptId, AVG(Salary) AS AvgSalary\n",
        "FROM employees\n",
        "GROUP BY DeptId\n",
        "''').show()\n",
        "\n",
        "print(\"rata-rata gaji per departemen\")"
      ],
      "metadata": {
        "colab": {
          "base_uri": "https://localhost:8080/"
        },
        "id": "-LW0f60l9J6T",
        "outputId": "b991cddc-6808-4927-e1ef-8d0a5d437ec7"
      },
      "execution_count": null,
      "outputs": [
        {
          "output_type": "stream",
          "name": "stdout",
          "text": [
            "+------+---------+\n",
            "|DeptId|AvgSalary|\n",
            "+------+---------+\n",
            "|     1|   2850.0|\n",
            "|     2|   4100.0|\n",
            "+------+---------+\n",
            "\n",
            "rata-rata gaji per departemen\n"
          ]
        }
      ]
    },
    {
      "cell_type": "code",
      "source": [
        "# 2 tambahan 2\n",
        "# karyawan yang memiliki gaji diatas rata-rata sesuai dengan gender\n",
        "spark.sql('''\n",
        "WITH GenderAverage AS (\n",
        "    SELECT Gender, AVG(Salary) AS AverageSalary\n",
        "    FROM employees\n",
        "    GROUP BY Gender\n",
        ")\n",
        "SELECT e.*\n",
        "FROM employees e\n",
        "JOIN GenderAverage ga ON e.Gender = ga.Gender\n",
        "WHERE e.Salary > ga.AverageSalary;\n",
        "''').show()\n",
        "print(\"karyawan dengan gaji di atas rata-rata\")"
      ],
      "metadata": {
        "colab": {
          "base_uri": "https://localhost:8080/"
        },
        "id": "Kwos7rca9jhw",
        "outputId": "8bf5a74e-252d-4a4b-b51c-96770afbd84f"
      },
      "execution_count": null,
      "outputs": [
        {
          "output_type": "stream",
          "name": "stdout",
          "text": [
            "+-----+---+------+------+------+\n",
            "| Name|Age|Gender|Salary|DeptId|\n",
            "+-----+---+------+------+------+\n",
            "|James| 34|     M|  3000|     1|\n",
            "+-----+---+------+------+------+\n",
            "\n",
            "karyawan dengan gaji di atas rata-rata\n"
          ]
        }
      ]
    },
    {
      "cell_type": "code",
      "source": [
        "# 2 tambahan 3\n",
        "# ranking berdasarkan gaji\n",
        "spark.sql('''\n",
        "SELECT Name, DeptId, Salary,\n",
        "       RANK() OVER (PARTITION BY DeptId ORDER BY Salary DESC) AS Rank\n",
        "FROM employees;\n",
        "''').show()\n",
        "print(\"ranking karyawan berdasarkan gaji dalam departemen\")"
      ],
      "metadata": {
        "colab": {
          "base_uri": "https://localhost:8080/"
        },
        "id": "eS31YwK99r63",
        "outputId": "9d8ab315-bba9-4b75-a6dd-58ff804bb17c"
      },
      "execution_count": null,
      "outputs": [
        {
          "output_type": "stream",
          "name": "stdout",
          "text": [
            "+-----+------+------+----+\n",
            "| Name|DeptId|Salary|Rank|\n",
            "+-----+------+------+----+\n",
            "|James|     1|  3000|   1|\n",
            "|  Lee|     1|  2700|   2|\n",
            "| Anna|     2|  4100|   1|\n",
            "+-----+------+------+----+\n",
            "\n",
            "ranking karyawan berdasarkan gaji dalam departemen\n"
          ]
        }
      ]
    },
    {
      "cell_type": "code",
      "source": [
        "# 3\n",
        "spark.sql('''\n",
        "SELECT Name, Age, Salary, ROW_NUMBER() OVER (PARTITION BY Age ORDER BY Salary DESC) as rank\n",
        "FROM employees\n",
        "''').show()"
      ],
      "metadata": {
        "colab": {
          "base_uri": "https://localhost:8080/"
        },
        "id": "D2pwPdZR-Blc",
        "outputId": "684ed1a7-20a6-42ee-b839-2c4345135c5e"
      },
      "execution_count": null,
      "outputs": [
        {
          "output_type": "stream",
          "name": "stdout",
          "text": [
            "+-----+---+------+----+\n",
            "| Name|Age|Salary|rank|\n",
            "+-----+---+------+----+\n",
            "|  Lee| 23|  2700|   1|\n",
            "| Anna| 28|  4100|   1|\n",
            "|James| 34|  3000|   1|\n",
            "+-----+---+------+----+\n",
            "\n"
          ]
        }
      ]
    },
    {
      "cell_type": "code",
      "source": [
        "# 4\n",
        "from pyspark.sql import SparkSession\n",
        "spark = SparkSession.builder.appName('Pertemuan9').getOrCreate()\n",
        "\n",
        "# Data setup for complex SQL queries\n",
        "employees = spark.createDataFrame([\n",
        "    ('James', 34, 'M', 3000, 1),\n",
        "    ('Anna', 28, 'F', 4100, 2),\n",
        "    ('Lee', 23, 'M', 2700, 1)\n",
        "], ['Name', 'Age', 'Gender', 'Salary', 'DeptId'])\n",
        "departments = spark.createDataFrame([\n",
        "    (1, 'HR'),\n",
        "    (2, 'Marketing')\n",
        "], ['DeptId', 'DeptName'])\n",
        "projects = spark.createDataFrame([\n",
        "    (1, 'Project A'),\n",
        "    (2, 'Project B')\n",
        "], ['DeptId', 'ProjectName'])\n",
        "employees.createOrReplaceTempView('employees')\n",
        "departments.createOrReplaceTempView('departments')\n",
        "projects.createOrReplaceTempView('projects')\n",
        "\n",
        "# Complex SQL query involving multiple joins and subqueries\n",
        "spark.sql('''\n",
        "SELECT e.Name, e.Age, d.DeptName, p.ProjectName\n",
        "FROM employees e\n",
        "JOIN departments d ON e.DeptId = d.DeptId\n",
        "JOIN projects p ON e.DeptId = p.DeptId\n",
        "''').show()"
      ],
      "metadata": {
        "colab": {
          "base_uri": "https://localhost:8080/"
        },
        "id": "l6rQdx8HAmxX",
        "outputId": "817dae70-994c-4884-d117-e7dc64b62d9b"
      },
      "execution_count": null,
      "outputs": [
        {
          "output_type": "stream",
          "name": "stdout",
          "text": [
            "+-----+---+---------+-----------+\n",
            "| Name|Age| DeptName|ProjectName|\n",
            "+-----+---+---------+-----------+\n",
            "|  Lee| 23|       HR|  Project A|\n",
            "|James| 34|       HR|  Project A|\n",
            "| Anna| 28|Marketing|  Project B|\n",
            "+-----+---+---------+-----------+\n",
            "\n"
          ]
        }
      ]
    },
    {
      "cell_type": "code",
      "source": [
        "# 4 tambahan 5\n",
        "from pyspark.sql import SparkSession\n",
        "spark = SparkSession.builder.appName('Pertemuan9').getOrCreate()\n",
        "\n",
        "# Data setup for complex SQL queries\n",
        "employees = spark.createDataFrame([\n",
        "    ('James', 34, 'M', 3000, 1),\n",
        "    ('Anna', 28, 'F', 4100, 2),\n",
        "    ('Lee', 23, 'M', 2700, 1)\n",
        "], ['Name', 'Age', 'Gender', 'Salary', 'DeptId'])\n",
        "departments = spark.createDataFrame([\n",
        "    (1, 'HR'),\n",
        "    (2, 'Marketing')\n",
        "], ['DeptId', 'DeptName'])\n",
        "projects = spark.createDataFrame([\n",
        "    (1, 'Project A'),\n",
        "    (2, 'Project B')\n",
        "], ['DeptId', 'ProjectName'])\n",
        "employees.createOrReplaceTempView('employees')\n",
        "departments.createOrReplaceTempView('departments')\n",
        "projects.createOrReplaceTempView('projects')\n",
        "\n",
        "# Complex SQL query involving multiple joins and subqueries\n",
        "spark.sql('''\n",
        "SELECT Name, DeptId, AVG(Salary) AS AvgSalary\n",
        "FROM employees\n",
        "GROUP BY Name, DeptId\n",
        "''').show()"
      ],
      "metadata": {
        "colab": {
          "base_uri": "https://localhost:8080/"
        },
        "id": "6WIFfXemEm-D",
        "outputId": "b7069d8d-2290-4191-ab14-5c31c2f072f8"
      },
      "execution_count": null,
      "outputs": [
        {
          "output_type": "stream",
          "name": "stdout",
          "text": [
            "+-----+------+---------+\n",
            "| Name|DeptId|AvgSalary|\n",
            "+-----+------+---------+\n",
            "|James|     1|   3000.0|\n",
            "| Anna|     2|   4100.0|\n",
            "|  Lee|     1|   2700.0|\n",
            "+-----+------+---------+\n",
            "\n"
          ]
        }
      ]
    },
    {
      "cell_type": "code",
      "source": [
        "# 4 tambahan 6\n",
        "from pyspark.sql import SparkSession\n",
        "spark = SparkSession.builder.appName('Pertemuan9').getOrCreate()\n",
        "\n",
        "# Data setup for complex SQL queries\n",
        "employees = spark.createDataFrame([\n",
        "    ('James', 34, 'M', 3000, 1),\n",
        "    ('Anna', 28, 'F', 4100, 2),\n",
        "    ('Lee', 23, 'M', 2700, 1)\n",
        "], ['Name', 'Age', 'Gender', 'Salary', 'DeptId'])\n",
        "departments = spark.createDataFrame([\n",
        "    (1, 'HR'),\n",
        "    (2, 'Marketing')\n",
        "], ['DeptId', 'DeptName'])\n",
        "projects = spark.createDataFrame([\n",
        "    (1, 'Project A'),\n",
        "    (2, 'Project B')\n",
        "], ['DeptId', 'ProjectName'])\n",
        "employees.createOrReplaceTempView('employees')\n",
        "departments.createOrReplaceTempView('departments')\n",
        "projects.createOrReplaceTempView('projects')\n",
        "\n",
        "# Complex SQL query involving multiple joins and subqueries\n",
        "spark.sql('''\n",
        "SELECT Name, Age, DeptId, Salary,\n",
        "RANK() OVER (PARTITION BY DeptId ORDER BY Salary DESC) AS Rank\n",
        "FROM employees;\n",
        "''').show()"
      ],
      "metadata": {
        "colab": {
          "base_uri": "https://localhost:8080/"
        },
        "id": "RajcVrIHBobz",
        "outputId": "cc1fce78-a6fd-459c-df9a-85224c98af7b"
      },
      "execution_count": null,
      "outputs": [
        {
          "output_type": "stream",
          "name": "stdout",
          "text": [
            "+-----+---+------+------+----+\n",
            "| Name|Age|DeptId|Salary|Rank|\n",
            "+-----+---+------+------+----+\n",
            "|James| 34|     1|  3000|   1|\n",
            "|  Lee| 23|     1|  2700|   2|\n",
            "| Anna| 28|     2|  4100|   1|\n",
            "+-----+---+------+------+----+\n",
            "\n"
          ]
        }
      ]
    },
    {
      "cell_type": "code",
      "source": [
        "import matplotlib.pyplot as plt\n",
        "import pandas as pd\n",
        "\n",
        "# Advanced data analysis with visualization\n",
        "salary_trends = spark.sql('''\n",
        "SELECT Age, AVG(Salary) AS AverageSalary\n",
        "FROM employees\n",
        "GROUP BY Age\n",
        "ORDER BY Age\n",
        "''').toPandas()\n",
        "\n",
        "# Visualization of salary trends\n",
        "plt.figure(figsize=(10, 5))\n",
        "plt.plot(salary_trends['Age'], salary_trends['AverageSalary'], marker='o')\n",
        "plt.xlabel('Age')\n",
        "plt.ylabel('Average Salary')\n",
        "plt.title('Salary Trends by Age')\n",
        "plt.grid(True)\n",
        "plt.show()"
      ],
      "metadata": {
        "colab": {
          "base_uri": "https://localhost:8080/",
          "height": 487
        },
        "id": "E6wqj2faCfRd",
        "outputId": "390d2994-90b5-4584-e0ae-0100b3ae225b"
      },
      "execution_count": null,
      "outputs": [
        {
          "output_type": "display_data",
          "data": {
            "text/plain": [
              "<Figure size 1000x500 with 1 Axes>"
            ],
            "image/png": "[encoded data removed]"
          },
          "metadata": {}
        }
      ]
    },
    {
      "cell_type": "markdown",
      "source": [
        "Homework"
      ],
      "metadata": {
        "id": "wxHu_QORIETD"
      }
    },
    {
      "cell_type": "code",
      "source": [
        "# 1\n",
        "spark.sql('''\n",
        "SELECT d.DeptName, SUM(e.Salary) AS TotalSalary, COUNT(e.Name) AS EmployeeCount\n",
        "FROM employees e\n",
        "JOIN departments d ON e.DeptId = d.DeptId\n",
        "GROUP BY d.DeptName\n",
        "''').show()\n",
        "\n",
        "# 2\n",
        "spark.sql('''\n",
        "WITH AvgSalary AS (\n",
        "    SELECT Age, AVG(Salary) AS AvgSal\n",
        "    FROM employees\n",
        "    GROUP BY Age\n",
        ")\n",
        "SELECT e.Name, e.Age, e.Salary\n",
        "FROM employees e\n",
        "JOIN AvgSalary a ON e.Age = a.Age\n",
        "WHERE e.Salary > a.AvgSal\n",
        "''').show()\n",
        "\n",
        "# 3\n",
        "import random\n",
        "\n",
        "# Generate a larger dataset\n",
        "data = [(f'Employee_{i}', random.randint(20, 50), random.choice(['M', 'F']), random.randint(2500, 5000), random.randint(1, 3)) for i in range(1, 101)]\n",
        "columns = ['Name', 'Age', 'Gender', 'Salary', 'DeptId']\n",
        "\n",
        "# Create DataFrame\n",
        "large_df = spark.createDataFrame(data, schema=columns)\n",
        "\n",
        "# Create temp view\n",
        "large_df.createOrReplaceTempView('employees')\n",
        "\n",
        "# Perform SQL functions\n",
        "spark.sql('''\n",
        "SELECT DeptId, SUM(Salary) AS TotalSalary, AVG(Salary) AS AverageSalary, COUNT(*) AS EmployeeCount\n",
        "FROM employees\n",
        "GROUP BY DeptId\n",
        "''').show()\n",
        "\n",
        "# 4\n",
        "import matplotlib.pyplot as plt\n",
        "import pandas as pd\n",
        "\n",
        "# Ambil data untuk visualisasi\n",
        "total_salary_df = spark.sql('''\n",
        "SELECT d.DeptName, SUM(e.Salary) AS TotalSalary\n",
        "FROM employees e\n",
        "JOIN departments d ON e.DeptId = d.DeptId\n",
        "GROUP BY d.DeptName\n",
        "''').toPandas()\n",
        "\n",
        "# Visualisasi\n",
        "plt.figure(figsize=(10, 5))\n",
        "plt.bar(total_salary_df['DeptName'], total_salary_df['TotalSalary'], color='black')\n",
        "plt.xlabel('Department Name')\n",
        "plt.ylabel('Total Salary')\n",
        "plt.title('Total Salary per Department')\n",
        "plt.xticks(rotation=45)\n",
        "plt.show()"
      ],
      "metadata": {
        "colab": {
          "base_uri": "https://localhost:8080/",
          "height": 879
        },
        "id": "71exV1QMCloD",
        "outputId": "831f20ed-d1d2-4ef1-f7d4-04dd30ce3055"
      },
      "execution_count": null,
      "outputs": [
        {
          "output_type": "stream",
          "name": "stdout",
          "text": [
            "+---------+-----------+-------------+\n",
            "| DeptName|TotalSalary|EmployeeCount|\n",
            "+---------+-----------+-------------+\n",
            "|       HR|       5700|            2|\n",
            "|Marketing|       4100|            1|\n",
            "+---------+-----------+-------------+\n",
            "\n",
            "+----+---+------+\n",
            "|Name|Age|Salary|\n",
            "+----+---+------+\n",
            "+----+---+------+\n",
            "\n",
            "+------+-----------+-----------------+-------------+\n",
            "|DeptId|TotalSalary|    AverageSalary|EmployeeCount|\n",
            "+------+-----------+-----------------+-------------+\n",
            "|     1|     111408|           3713.6|           30|\n",
            "|     3|     116758|3538.121212121212|           33|\n",
            "|     2|     133600|3610.810810810811|           37|\n",
            "+------+-----------+-----------------+-------------+\n",
            "\n"
          ]
        },
        {
          "output_type": "display_data",
          "data": {
            "text/plain": [
              "<Figure size 1000x500 with 1 Axes>"
            ],
            "image/png": "[encoded data removed]"
          },
          "metadata": {}
        }
      ]
    },
    {
      "cell_type": "code",
      "source": [],
      "metadata": {
        "id": "azO5tTTQJBmt"
      },
      "execution_count": null,
      "outputs": []
    }
  ]
}