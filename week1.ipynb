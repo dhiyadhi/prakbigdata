{
 "cells": [
  {
   "cell_type": "code",
   "execution_count": 9,
   "metadata": {},
   "outputs": [
    {
     "name": "stdout",
     "output_type": "stream",
     "text": [
      "+-------+----+---------+---------+---------+\n",
      "|   Nama|Usia|Pekerjaan|     Hobi|   Gender|\n",
      "+-------+----+---------+---------+---------+\n",
      "|    Eka|   8|    siswa|   nangis|Perempuan|\n",
      "|  Dhiya|  30|   penari|   menari|Perempuan|\n",
      "|Nasywaa|  18|     guru|  membaca|Perempuan|\n",
      "|  ahmad|  20|bodyguard|berkelahi|Laki-laki|\n",
      "+-------+----+---------+---------+---------+\n",
      "\n"
     ]
    }
   ],
   "source": [
    "from pyspark.sql import SparkSession\n",
    "\n",
    "spark = SparkSession.builder.appName(\"BigDataPractice\").getOrCreate()\n",
    "\n",
    "data = [(\"Eka\", 8, \"siswa\", \"nangis\", \"Perempuan\"), \n",
    "        (\"Dhiya\", 30, \"penari\", \"menari\", \"Perempuan\"), \n",
    "        (\"Nasywaa\",18, \"guru\", \"membaca\", \"Perempuan\"), \n",
    "        (\"ahmad\", 20, \"bodyguard\", \"berkelahi\", \"Laki-laki\")]\n",
    "columns = [\"Nama\", \"Usia\", \"Pekerjaan\", \"Hobi\", \"Gender\"]\n",
    "\n",
    "df = spark.createDataFrame(data, columns)\n",
    "\n",
    "df.show()"
   ]
  },
  {
   "cell_type": "code",
   "execution_count": 11,
   "metadata": {},
   "outputs": [
    {
     "name": "stdout",
     "output_type": "stream",
     "text": [
      "+-------+----+---------+---------+---------+\n",
      "|   Nama|Usia|Pekerjaan|     Hobi|   Gender|\n",
      "+-------+----+---------+---------+---------+\n",
      "|    Eka|   8|    siswa|   nangis|Perempuan|\n",
      "|  Dhiya|  30|   penari|   menari|Perempuan|\n",
      "|Nasywaa|  18|     guru|  membaca|Perempuan|\n",
      "|  ahmad|  20|bodyguard|berkelahi|Laki-laki|\n",
      "+-------+----+---------+---------+---------+\n",
      "\n",
      "+----+----+---------+----+------+\n",
      "|Nama|Usia|Pekerjaan|Hobi|Gender|\n",
      "+----+----+---------+----+------+\n",
      "+----+----+---------+----+------+\n",
      "\n",
      "+---------+\n",
      "|avg(Usia)|\n",
      "+---------+\n",
      "|     19.0|\n",
      "+---------+\n",
      "\n",
      "+-------+----+---------+---------+---------+\n",
      "|   Nama|Usia|Pekerjaan|     Hobi|   Gender|\n",
      "+-------+----+---------+---------+---------+\n",
      "|  Dhiya|  30|   penari|   menari|Perempuan|\n",
      "|  ahmad|  20|bodyguard|berkelahi|Laki-laki|\n",
      "|Nasywaa|  18|     guru|  membaca|Perempuan|\n",
      "|    Eka|   8|    siswa|   nangis|Perempuan|\n",
      "+-------+----+---------+---------+---------+\n",
      "\n"
     ]
    }
   ],
   "source": [
    "from pyspark.sql import SparkSession\n",
    "\n",
    "spark = SparkSession.builder.appName(\"BigDataPractice\").getOrCreate()\n",
    "\n",
    "data = [(\"Eka\", 8, \"siswa\", \"nangis\", \"Perempuan\"), \n",
    "        (\"Dhiya\", 30, \"penari\", \"menari\", \"Perempuan\"), \n",
    "        (\"Nasywaa\",18, \"guru\", \"membaca\", \"Perempuan\"), \n",
    "        (\"ahmad\", 20, \"bodyguard\", \"berkelahi\", \"Laki-laki\")]\n",
    "columns = [\"Nama\", \"Usia\", \"Pekerjaan\", \"Hobi\", \"Gender\"]\n",
    "\n",
    "df = spark.createDataFrame(data, columns)\n",
    "\n",
    "df.show()\n",
    "\n",
    "# Filtering data\n",
    "df_filtered = df.filter(df['Usia'] > 30)\n",
    "df_filtered.show()\n",
    "\n",
    "# Menghitung rata-rata usia\n",
    "from pyspark.sql.functions import avg\n",
    "df.groupBy().agg(avg(\"Usia\")).show()\n",
    "\n",
    "# Mengurutkan data berdasarkan usia\n",
    "df_sorted = df.orderBy(\"Usia\", ascending=False)\n",
    "df_sorted.show()"
   ]
  },
  {
   "cell_type": "code",
   "execution_count": 12,
   "metadata": {},
   "outputs": [
    {
     "data": {
      "text/html": [
       "<div>\n",
       "<style scoped>\n",
       "    .dataframe tbody tr th:only-of-type {\n",
       "        vertical-align: middle;\n",
       "    }\n",
       "\n",
       "    .dataframe tbody tr th {\n",
       "        vertical-align: top;\n",
       "    }\n",
       "\n",
       "    .dataframe thead th {\n",
       "        text-align: right;\n",
       "    }\n",
       "</style>\n",
       "<table border=\"1\" class=\"dataframe\">\n",
       "  <thead>\n",
       "    <tr style=\"text-align: right;\">\n",
       "      <th></th>\n",
       "      <th>Nama</th>\n",
       "      <th>Usia</th>\n",
       "    </tr>\n",
       "  </thead>\n",
       "  <tbody>\n",
       "    <tr>\n",
       "      <th>0</th>\n",
       "      <td>Eka</td>\n",
       "      <td>8</td>\n",
       "    </tr>\n",
       "    <tr>\n",
       "      <th>1</th>\n",
       "      <td>Dhiya</td>\n",
       "      <td>30</td>\n",
       "    </tr>\n",
       "    <tr>\n",
       "      <th>2</th>\n",
       "      <td>Nasywaa</td>\n",
       "      <td>10</td>\n",
       "    </tr>\n",
       "    <tr>\n",
       "      <th>3</th>\n",
       "      <td>ahmad</td>\n",
       "      <td>20</td>\n",
       "    </tr>\n",
       "  </tbody>\n",
       "</table>\n",
       "</div>"
      ],
      "text/plain": [
       "      Nama  Usia\n",
       "0      Eka     8\n",
       "1    Dhiya    30\n",
       "2  Nasywaa    10\n",
       "3    ahmad    20"
      ]
     },
     "execution_count": 12,
     "metadata": {},
     "output_type": "execute_result"
    }
   ],
   "source": [
    "import pandas as pd\n",
    "\n",
    "# Membuat DataFrame Pandas\n",
    "data_pandas = {\"Nama\": [\"Eka\", \"Dhiya\", \"Nasywaa\", \"ahmad\"], \"Usia\": [8, 30, 10, 20]}\n",
    "df_pandas = pd.DataFrame(data_pandas)\n",
    "\n",
    "# Menampilkan DataFrame Pandas\n",
    "df_pandas"
   ]
  },
  {
   "cell_type": "code",
   "execution_count": 13,
   "metadata": {},
   "outputs": [
    {
     "name": "stdout",
     "output_type": "stream",
     "text": [
      "      Nama  Usia  Pekerjaan\n",
      "0      Eka     8      siswa\n",
      "1    Dhiya    30     penari\n",
      "2  Nasywaa    18       guru\n",
      "3    ahmad    30  bodyguard\n",
      "            Usia\n",
      "count   4.000000\n",
      "mean   21.500000\n",
      "std    10.630146\n",
      "min     8.000000\n",
      "25%    15.500000\n",
      "50%    24.000000\n",
      "75%    30.000000\n",
      "max    30.000000\n"
     ]
    },
    {
     "data": {
      "image/png": "[encoded data removed]",
      "text/plain": [
       "<Figure size 640x480 with 1 Axes>"
      ]
     },
     "metadata": {},
     "output_type": "display_data"
    }
   ],
   "source": [
    "import pandas as pd\n",
    "\n",
    "# Membuat DataFrame Pandas\n",
    "data_pandas = {\"Nama\": [\"Eka\", \"Dhiya\", \"Nasywaa\", \"ahmad\"], \"Usia\": [8, 30, 18, 30]}\n",
    "df_pandas = pd.DataFrame(data_pandas)\n",
    "\n",
    "# Membuat DataFrame kedua\n",
    "data_pandas_2 = {\"Nama\": [\"Eka\", \"Dhiya\", \"Nasywaa\", \"ahmad\"], \"Pekerjaan\": [\"siswa\", \"penari\", \"guru\", \"bodyguard\"]}\n",
    "df_pandas_2 = pd.DataFrame(data_pandas_2)\n",
    "\n",
    "# Join antara dua DataFrame\n",
    "df_joined = pd.merge(df_pandas, df_pandas_2, on=\"Nama\")\n",
    "print(df_joined)\n",
    "\n",
    "# Menghitung statistik deskriptif\n",
    "print(df_pandas.describe())\n",
    "\n",
    "# Plotting Data\n",
    "import matplotlib.pyplot as plt\n",
    "df_pandas['Usia'].plot(kind='bar')\n",
    "plt.show()"
   ]
  },
  {
   "cell_type": "code",
   "execution_count": 14,
   "metadata": {},
   "outputs": [
    {
     "name": "stdout",
     "output_type": "stream",
     "text": [
      "+-------+----+\n",
      "|   Nama|Usia|\n",
      "+-------+----+\n",
      "|    Eka|   8|\n",
      "|  Dhiya|  30|\n",
      "|Nasywaa|  18|\n",
      "|  ahmad|  30|\n",
      "+-------+----+\n",
      "\n"
     ]
    },
    {
     "data": {
      "text/plain": [
       "(      Nama  Usia  Pekerjaan       Hobi     Gender\n",
       " 0      Eka     8      siswa     nangis  Perempuan\n",
       " 1    Dhiya    30     penari     menari  Perempuan\n",
       " 2  Nasywaa    18       guru    membaca  Perempuan\n",
       " 3    ahmad    20  bodyguard  berkelahi  Laki-laki,\n",
       " None)"
      ]
     },
     "execution_count": 14,
     "metadata": {},
     "output_type": "execute_result"
    }
   ],
   "source": [
    "# Mengonversi DataFrame dari PySpark ke Pandas\n",
    "df_pandas_from_spark = df.toPandas()\n",
    "\n",
    "# Mengonversi DataFrame dari Pandas ke PySpark\n",
    "df_spark_from_pandas = spark.createDataFrame(df_pandas)\n",
    "\n",
    "# Menampilkan DataFrame hasil konversi\n",
    "df_pandas_from_spark, df_spark_from_pandas.show()"
   ]
  },
  {
   "cell_type": "code",
   "execution_count": 15,
   "metadata": {},
   "outputs": [
    {
     "name": "stdout",
     "output_type": "stream",
     "text": [
      "+-------+----+\n",
      "|   Nama|Usia|\n",
      "+-------+----+\n",
      "|    Eka|   8|\n",
      "|  Dhiya|  30|\n",
      "|Nasywaa|  18|\n",
      "|  ahmad|  30|\n",
      "+-------+----+\n",
      "\n"
     ]
    },
    {
     "data": {
      "text/plain": [
       "(      Nama  Usia  Pekerjaan       Hobi     Gender\n",
       " 0      Eka     8      siswa     nangis  Perempuan\n",
       " 1    Dhiya    30     penari     menari  Perempuan\n",
       " 2  Nasywaa    18       guru    membaca  Perempuan\n",
       " 3    ahmad    20  bodyguard  berkelahi  Laki-laki,\n",
       " None)"
      ]
     },
     "execution_count": 15,
     "metadata": {},
     "output_type": "execute_result"
    }
   ],
   "source": [
    "# Mengonversi DataFrame dari PySpark ke Pandas\n",
    "df_pandas_from_spark = df.toPandas()\n",
    "\n",
    "# Mengonversi DataFrame dari Pandas ke PySpark\n",
    "df_spark_from_pandas = spark.createDataFrame(df_pandas)\n",
    "\n",
    "# Menampilkan DataFrame hasil konversi\n",
    "df_pandas_from_spark, df_spark_from_pandas.show()"
   ]
  }
 ],
 "metadata": {
  "kernelspec": {
   "display_name": "Python 3",
   "language": "python",
   "name": "python3"
  },
  "language_info": {
   "codemirror_mode": {
    "name": "ipython",
    "version": 3
   },
   "file_extension": ".py",
   "mimetype": "text/x-python",
   "name": "python",
   "nbconvert_exporter": "python",
   "pygments_lexer": "ipython3",
   "version": "3.12.1"
  }
 },
 "nbformat": 4,
 "nbformat_minor": 2
}
