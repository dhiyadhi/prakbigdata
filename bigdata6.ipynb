{
  "nbformat": 4,
  "nbformat_minor": 0,
  "metadata": {
    "colab": {
      "provenance": []
    },
    "kernelspec": {
      "name": "python3",
      "display_name": "Python 3"
    },
    "language_info": {
      "name": "python"
    }
  },
  "cells": [
    {
      "cell_type": "code",
      "execution_count": 4,
      "metadata": {
        "colab": {
          "base_uri": "https://localhost:8080/"
        },
        "id": "2pzy6FD-fI9I",
        "outputId": "27ba004d-7a48-4a3a-a0e8-69e50f2c09c5"
      },
      "outputs": [
        {
          "output_type": "stream",
          "name": "stdout",
          "text": [
            "+------------+----------+--------+\n",
            "|EmployeeName|Department|  Salary|\n",
            "+------------+----------+--------+\n",
            "|       Dhiya| Pengacara|16000000|\n",
            "|       Risma|     Bidan| 6000000|\n",
            "|     Nasywaa|     Pilot|22000000|\n",
            "|         Eka|   Tentara| 6000000|\n",
            "+------------+----------+--------+\n",
            "\n"
          ]
        }
      ],
      "source": [
        "# Contoh membuat DataFrame sederhana dan operasi dasar\n",
        "from pyspark.sql import SparkSession\n",
        "spark = SparkSession.builder.appName('HandsOnPertemuan6').getOrCreate()\n",
        "\n",
        "data = [('Dhiya', 'Pengacara', 16000000),\n",
        "        ('Risma', 'Bidan', 6000000),\n",
        "        ('Nasywaa', 'Pilot', 22000000),\n",
        "        ('Eka', 'Tentara', 6000000)]\n",
        "columns = ['EmployeeName', 'Department', 'Salary']\n",
        "\n",
        "df = spark.createDataFrame(data, schema=columns)\n",
        "df.show()"
      ]
    },
    {
      "cell_type": "code",
      "source": [
        "# Contoh operasi transformasi DataFrame\n",
        "df.select('EmployeeName', 'Salary').show()\n",
        "df.filter(df['Salary'] > 3000).show()\n",
        "df.groupBy('Department').avg('Salary').show()!pip install pandas==2.2.2 numpy pyspark==3.4.1"
      ],
      "metadata": {
        "colab": {
          "base_uri": "https://localhost:8080/"
        },
        "id": "qHcp5KlzfiIt",
        "outputId": "5737c059-b64f-4319-b29c-8102533c8c1f"
      },
      "execution_count": 2,
      "outputs": [
        {
          "output_type": "stream",
          "name": "stdout",
          "text": [
            "Collecting pandas==2.2.2\n",
            "  Downloading pandas-2.2.2-cp310-cp310-manylinux_2_17_x86_64.manylinux2014_x86_64.whl.metadata (19 kB)\n",
            "Requirement already satisfied: numpy in /usr/local/lib/python3.10/dist-packages (1.26.4)\n",
            "Collecting pyspark==3.4.1\n",
            "  Downloading pyspark-3.4.1.tar.gz (310.8 MB)\n",
            "\u001b[2K     \u001b[90m━━━━━━━━━━━━━━━━━━━━━━━━━━━━━━━━━━━━━━━━\u001b[0m \u001b[32m310.8/310.8 MB\u001b[0m \u001b[31m4.4 MB/s\u001b[0m eta \u001b[36m0:00:00\u001b[0m\n",
            "\u001b[?25h  Preparing metadata (setup.py) ... \u001b[?25l\u001b[?25hdone\n",
            "Requirement already satisfied: python-dateutil>=2.8.2 in /usr/local/lib/python3.10/dist-packages (from pandas==2.2.2) (2.8.2)\n",
            "Requirement already satisfied: pytz>=2020.1 in /usr/local/lib/python3.10/dist-packages (from pandas==2.2.2) (2024.2)\n",
            "Requirement already satisfied: tzdata>=2022.7 in /usr/local/lib/python3.10/dist-packages (from pandas==2.2.2) (2024.1)\n",
            "Requirement already satisfied: py4j==0.10.9.7 in /usr/local/lib/python3.10/dist-packages (from pyspark==3.4.1) (0.10.9.7)\n",
            "Requirement already satisfied: six>=1.5 in /usr/local/lib/python3.10/dist-packages (from python-dateutil>=2.8.2->pandas==2.2.2) (1.16.0)\n",
            "Downloading pandas-2.2.2-cp310-cp310-manylinux_2_17_x86_64.manylinux2014_x86_64.whl (13.0 MB)\n",
            "\u001b[2K   \u001b[90m━━━━━━━━━━━━━━━━━━━━━━━━━━━━━━━━━━━━━━━━\u001b[0m \u001b[32m13.0/13.0 MB\u001b[0m \u001b[31m94.6 MB/s\u001b[0m eta \u001b[36m0:00:00\u001b[0m\n",
            "\u001b[?25hBuilding wheels for collected packages: pyspark\n",
            "  Building wheel for pyspark (setup.py) ... \u001b[?25l\u001b[?25hdone\n",
            "  Created wheel for pyspark: filename=pyspark-3.4.1-py2.py3-none-any.whl size=311285391 sha256=d67c06bf6475ea6e1aba553356c154222b5c092fb6b9f43f77c5e50871b80456\n",
            "  Stored in directory: /root/.cache/pip/wheels/0d/77/a3/ff2f74cc9ab41f8f594dabf0579c2a7c6de920d584206e0834\n",
            "Successfully built pyspark\n",
            "Installing collected packages: pyspark, pandas\n",
            "  Attempting uninstall: pandas\n",
            "    Found existing installation: pandas 2.1.4\n",
            "    Uninstalling pandas-2.1.4:\n",
            "      Successfully uninstalled pandas-2.1.4\n",
            "\u001b[31mERROR: pip's dependency resolver does not currently take into account all the packages that are installed. This behaviour is the source of the following dependency conflicts.\n",
            "cudf-cu12 24.4.1 requires pandas<2.2.2dev0,>=2.0, but you have pandas 2.2.2 which is incompatible.\n",
            "google-colab 1.0.0 requires pandas==2.1.4, but you have pandas 2.2.2 which is incompatible.\u001b[0m\u001b[31m\n",
            "\u001b[0mSuccessfully installed pandas-2.2.2 pyspark-3.4.1\n"
          ]
        }
      ]
    },
    {
      "cell_type": "code",
      "source": [
        "# Contoh operasi transformasi DataFrame\n",
        "df.select('EmployeeName', 'Salary').show()\n",
        "df.filter(df['Salary'] > 3000).show()\n",
        "df.groupBy('Department').avg('Salary').show()"
      ],
      "metadata": {
        "colab": {
          "base_uri": "https://localhost:8080/"
        },
        "id": "mp6YNp2Qf-aC",
        "outputId": "65017e81-e283-41aa-fbe4-fe7bf4ac7aae"
      },
      "execution_count": 5,
      "outputs": [
        {
          "output_type": "stream",
          "name": "stdout",
          "text": [
            "+------------+--------+\n",
            "|EmployeeName|  Salary|\n",
            "+------------+--------+\n",
            "|       Dhiya|16000000|\n",
            "|       Risma| 6000000|\n",
            "|     Nasywaa|22000000|\n",
            "|         Eka| 6000000|\n",
            "+------------+--------+\n",
            "\n",
            "+------------+----------+--------+\n",
            "|EmployeeName|Department|  Salary|\n",
            "+------------+----------+--------+\n",
            "|       Dhiya| Pengacara|16000000|\n",
            "|       Risma|     Bidan| 6000000|\n",
            "|     Nasywaa|     Pilot|22000000|\n",
            "|         Eka|   Tentara| 6000000|\n",
            "+------------+----------+--------+\n",
            "\n",
            "+----------+-----------+\n",
            "|Department|avg(Salary)|\n",
            "+----------+-----------+\n",
            "|     Bidan|  6000000.0|\n",
            "| Pengacara|      1.6E7|\n",
            "|   Tentara|  6000000.0|\n",
            "|     Pilot|      2.2E7|\n",
            "+----------+-----------+\n",
            "\n"
          ]
        }
      ]
    },
    {
      "cell_type": "code",
      "source": [
        "# 3 Menambahkan kolom bonus\n",
        "df_with_bonus = df.withColumn('SalaryBonus', df['Salary'] * 0.1)\n",
        "\n",
        "# Menambahkan kolom TotalCompensation menggunakan df_with_bonus\n",
        "df_with_total = df_with_bonus.withColumn('TotalCompensation', df_with_bonus['Salary'] + df_with_bonus['SalaryBonus'])\n",
        "\n",
        "# Menampilkan DataFrame dengan kolom baru\n",
        "df_with_total.show()"
      ],
      "metadata": {
        "colab": {
          "base_uri": "https://localhost:8080/"
        },
        "id": "th-2qGkih9EC",
        "outputId": "c51ecbb1-e9c3-445e-d3b2-a1b4077067a5"
      },
      "execution_count": 8,
      "outputs": [
        {
          "output_type": "stream",
          "name": "stdout",
          "text": [
            "+------------+----------+--------+-----------+-----------------+\n",
            "|EmployeeName|Department|  Salary|SalaryBonus|TotalCompensation|\n",
            "+------------+----------+--------+-----------+-----------------+\n",
            "|       Dhiya| Pengacara|16000000|  1600000.0|           1.76E7|\n",
            "|       Risma|     Bidan| 6000000|   600000.0|        6600000.0|\n",
            "|     Nasywaa|     Pilot|22000000|  2200000.0|           2.42E7|\n",
            "|         Eka|   Tentara| 6000000|   600000.0|        6600000.0|\n",
            "+------------+----------+--------+-----------+-----------------+\n",
            "\n"
          ]
        }
      ]
    },
    {
      "cell_type": "code",
      "source": [
        "# 4 Contoh menggunakan window functions\n",
        "from pyspark.sql.window import Window\n",
        "from pyspark.sql import functions as F\n",
        "\n",
        "windowSpec = Window.partitionBy('Department').orderBy('Salary')\n",
        "df.withColumn('Rank', F.rank().over(windowSpec)).show()"
      ],
      "metadata": {
        "colab": {
          "base_uri": "https://localhost:8080/"
        },
        "id": "z2fFuQ6viLst",
        "outputId": "62aa77e9-8559-4fc9-efea-ccb490d6dd38"
      },
      "execution_count": 9,
      "outputs": [
        {
          "output_type": "stream",
          "name": "stdout",
          "text": [
            "+------------+----------+--------+----+\n",
            "|EmployeeName|Department|  Salary|Rank|\n",
            "+------------+----------+--------+----+\n",
            "|       Risma|     Bidan| 6000000|   1|\n",
            "|       Dhiya| Pengacara|16000000|   1|\n",
            "|     Nasywaa|     Pilot|22000000|   1|\n",
            "|         Eka|   Tentara| 6000000|   1|\n",
            "+------------+----------+--------+----+\n",
            "\n"
          ]
        }
      ]
    },
    {
      "cell_type": "code",
      "source": [],
      "metadata": {
        "id": "cFDLMCXijFuU"
      },
      "execution_count": null,
      "outputs": []
    }
  ]
}